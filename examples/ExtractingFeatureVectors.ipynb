{
 "cells": [
  {
   "cell_type": "markdown",
   "metadata": {},
   "source": [
    "Extracting Feature Vectors From an Image\n",
    "============\n",
    "This notebook is intended to explain how to use the extract_layer function in order to obtain feature vectors of different images from different layers of InceptionV3."
   ]
  },
  {
   "cell_type": "code",
   "execution_count": 1,
   "metadata": {},
   "outputs": [],
   "source": [
    "import sys\n",
    "sys.path.append('../')"
   ]
  },
  {
   "cell_type": "code",
   "execution_count": 2,
   "metadata": {},
   "outputs": [],
   "source": [
    "from pliers.extractors.extract_layer import TensorFlowInceptionV3LayerExtractor\n",
    "from pliers.stimuli.image import ImageStim\n",
    "from matplotlib import pyplot as plt\n",
    "\n",
    "%matplotlib inline"
   ]
  },
  {
   "cell_type": "markdown",
   "metadata": {},
   "source": [
    "In this particular example, we use the last layer of the neural network in order to extract the feature vector. The given result is a 1x1008 vector."
   ]
  },
  {
   "cell_type": "code",
   "execution_count": 15,
   "metadata": {},
   "outputs": [],
   "source": [
    "#initialize extractor\n",
    "#default layer value is \"softmax:0\"\n",
    "ext = TensorFlowInceptionV3LayerExtractor()\n",
    "\n",
    "result = ext.transform('../cropped_panda.jpg')\n",
    "feature_vector = result._data"
   ]
  },
  {
   "cell_type": "markdown",
   "metadata": {},
   "source": [
    "This second example does exactly the same but with the last pooling layer."
   ]
  },
  {
   "cell_type": "code",
   "execution_count": 17,
   "metadata": {},
   "outputs": [],
   "source": [
    "#initialize extractor\n",
    "#layer value is \"pool_3:0\"\n",
    "ext_pool = TensorFlowInceptionV3LayerExtractor('pool_3:0')\n",
    "\n",
    "result_pool = ext_pool.transform('../cropped_panda.jpg');\n",
    "feature_vector_pool = result_pool._data"
   ]
  },
  {
   "cell_type": "code",
   "execution_count": null,
   "metadata": {},
   "outputs": [],
   "source": []
  }
 ],
 "metadata": {
  "kernelspec": {
   "display_name": "Python 3",
   "language": "python",
   "name": "python3"
  },
  "language_info": {
   "codemirror_mode": {
    "name": "ipython",
    "version": 3
   },
   "file_extension": ".py",
   "mimetype": "text/x-python",
   "name": "python",
   "nbconvert_exporter": "python",
   "pygments_lexer": "ipython3",
   "version": "3.6.2"
  }
 },
 "nbformat": 4,
 "nbformat_minor": 2
}
